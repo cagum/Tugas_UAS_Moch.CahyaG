{
 "cells": [
  {
   "cell_type": "code",
   "execution_count": 1,
   "id": "1d1feaef",
   "metadata": {},
   "outputs": [
    {
     "name": "stdout",
     "output_type": "stream",
     "text": [
      "********** List Disctonary Siswa Who Have Grade > 80 **********\n",
      "[{'Student Number': '102', 'Name': 'Budi', 'Subject': 'Programming Basic', 'Grade': '90'}, {'Student Number': '103', 'Name': 'Cika', 'Subject': 'Programming Basic', 'Grade': '100'}, {'Student Number': '104', 'Name': 'Dedi', 'Subject': 'Programming Basic', 'Grade': '100'}, {'Student Number': '104', 'Name': 'Dedi', 'Subject': 'Web Programming', 'Grade': '90'}, {'Student Number': '105', 'Name': 'Eka', 'Subject': 'Web Programming', 'Grade': '90'}, {'Student Number': '107', 'Name': 'Galih', 'Subject': 'Web Programming', 'Grade': '95'}, {'Student Number': '108', 'Name': 'Huda ', 'Subject': 'Web Programming', 'Grade': '85'}, {'Student Number': '109', 'Name': 'Intan', 'Subject': 'Web Programming', 'Grade': '90'}]\n",
      "\n",
      "**********  List Siswa With Description  **********\n",
      "    Student Number   Name            Subject  Grade Description\n",
      "0              101  Andri  Programming Basic     80        PASS\n",
      "1              102   Budi  Programming Basic     90        PASS\n",
      "2              103   Cika  Programming Basic    100        PASS\n",
      "3              104   Dedi  Programming Basic    100        PASS\n",
      "4              105    Eka  Programming Basic     50        FAIL\n",
      "5              106   Feri  Programming Basic     40        FAIL\n",
      "6              107  Galih  Programming Basic     70        PASS\n",
      "7              108  Huda   Programming Basic     70        PASS\n",
      "8              109  Intan  Programming Basic     60        FAIL\n",
      "9              101  Andri    Web Programming     70        PASS\n",
      "10             102   Budi    Web Programming     80        PASS\n",
      "11             103   Cika    Web Programming     80        PASS\n",
      "12             104   Dedi    Web Programming     90        PASS\n",
      "13             105    Eka    Web Programming     90        PASS\n",
      "14             106   Feri    Web Programming     60        FAIL\n",
      "15             107  Galih    Web Programming     95        PASS\n",
      "16             108  Huda     Web Programming     85        PASS\n",
      "17             109  Intan    Web Programming     90        PASS\n",
      "\n"
     ]
    },
    {
     "data": {
      "image/png": "[encoded data removed]",
      "text/plain": [
       "<Figure size 432x288 with 1 Axes>"
      ]
     },
     "metadata": {
      "needs_background": "light"
     },
     "output_type": "display_data"
    }
   ],
   "source": [
    "import matplotlib.pyplot as pyplot\n",
    "import pandas\n",
    "import csv\n",
    "\n",
    "\n",
    "# No 1\n",
    "list_siswa = []\n",
    "with open('DataSiswa.csv') as item:\n",
    "    reader = csv.DictReader(item)\n",
    "    for row in reader:\n",
    "        if int(row['Grade']) > 80:\n",
    "            list_siswa.append(row)\n",
    "print(\"********** List Disctonary Siswa Who Have Grade > 80 **********\")\n",
    "print(list_siswa)\n",
    "print(\"\")\n",
    "\n",
    "\n",
    "# No 2\n",
    "listSiswa = pandas.read_csv('DataSiswa.csv')\n",
    "\n",
    "# a\n",
    "listSiswa = listSiswa.assign( Description = '' )\n",
    "listSiswa.loc[ (listSiswa['Grade'] >= 70), 'Description' ] = 'PASS'\n",
    "listSiswa.loc[ (listSiswa['Grade'] < 70), 'Description' ] = 'FAIL'\n",
    "print(\"**********  List Siswa With Description  **********\")\n",
    "print(listSiswa)\n",
    "print(\"\")\n",
    "\n",
    "# b & c\n",
    "data_group = listSiswa.groupby('Name')[ [ 'Grade'] ].mean().astype(int)\n",
    "data_group.plot(kind='bar')\n",
    "pyplot.xlabel('Name')\n",
    "pyplot.ylabel('Grade)')\n",
    "pyplot.title('Mean of Final Exam Values')\n",
    "pyplot.show()\n"
   ]
  },
  {
   "cell_type": "code",
   "execution_count": null,
   "id": "181293bf",
   "metadata": {},
   "outputs": [],
   "source": []
  }
 ],
 "metadata": {
  "kernelspec": {
   "display_name": "Python 3 (ipykernel)",
   "language": "python",
   "name": "python3"
  },
  "language_info": {
   "codemirror_mode": {
    "name": "ipython",
    "version": 3
   },
   "file_extension": ".py",
   "mimetype": "text/x-python",
   "name": "python",
   "nbconvert_exporter": "python",
   "pygments_lexer": "ipython3",
   "version": "3.9.12"
  }
 },
 "nbformat": 4,
 "nbformat_minor": 5
}
